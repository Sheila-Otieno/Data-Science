{
 "cells": [
  {
   "cell_type": "markdown",
   "metadata": {},
   "source": [
    "References: Sentiment Analysis using SVM (https://medium.com/@vasista/sentiment-analysis-using-svm-338d418e3ff1)"
   ]
  },
  {
   "cell_type": "code",
   "execution_count": null,
   "metadata": {},
   "outputs": [],
   "source": [
    "#Read the dataset\n",
    "import pandas as pd\n",
    "Hotel_Reviews = pd.read_csv(\"Hotel_Reviews.csv\")"
   ]
  },
  {
   "cell_type": "code",
   "execution_count": null,
   "metadata": {},
   "outputs": [],
   "source": [
    "Hotel_Reviews.head()"
   ]
  },
  {
   "cell_type": "code",
   "execution_count": null,
   "metadata": {},
   "outputs": [],
   "source": [
    "#Get all the positive and negative reviews into one column\n",
    "Hotel_Reviews[\"reviews\"] = Hotel_Reviews[\"Negative_Review\"] + Hotel_Reviews[\"Positive_Review\"]\n",
    "Hotel_Reviews[\"is_good_review\"] = Hotel_Reviews[\"Reviewer_Score\"].apply(lambda x: 1 if x > 5 else 0)"
   ]
  },
  {
   "cell_type": "code",
   "execution_count": null,
   "metadata": {},
   "outputs": [],
   "source": [
    "#Split the data into train and test set\n",
    "from sklearn.model_selection import train_test_split\n",
    "\n",
    "train,test = train_test_split(Hotel_Reviews, test_size=0.8, random_state=42)\n",
    "test,test1 = train_test_split(test, test_size=0.67, random_state=42)\n",
    "test1,test2 = train_test_split(test1, test_size=0.5, random_state=42)\n",
    "\n",
    "print(train.shape);print(test.shape);print(test1.shape);print(test2.shape)"
   ]
  },
  {
   "cell_type": "code",
   "execution_count": null,
   "metadata": {},
   "outputs": [],
   "source": [
    "##TFIDF is used to generate vectors that will be used in training the model\n",
    "from sklearn.feature_extraction.text import TfidfVectorizer\n",
    "\n",
    "vectorizer = TfidfVectorizer(max_features = 10000)\n",
    "train_vec = vectorizer.fit_transform(train['reviews'])\n",
    "test_vec = vectorizer.transform(test['reviews'])\n",
    "test_vec1 = vectorizer.transform(test1['reviews'])\n",
    "test_vec2 = vectorizer.transform(test2['reviews'])"
   ]
  },
  {
   "cell_type": "code",
   "execution_count": null,
   "metadata": {},
   "outputs": [],
   "source": [
    "##Apply the SVM model to the first set of data\n",
    "from sklearn import svm\n",
    "from sklearn.metrics import classification_report\n",
    "\n",
    "cl = svm.SVC(kernel='linear')\n",
    "cl.fit(train_vec, train['is_good_review'])\n",
    "pred = cl.predict(test_vec)\n",
    "print(\"Results for SVC(kernel=linear)\")\n",
    "report = classification_report(test['is_good_review'], pred, output_dict=True)\n",
    "print('positive: ', report['1'])\n",
    "print('negative: ', report['0'])"
   ]
  },
  {
   "cell_type": "code",
   "execution_count": null,
   "metadata": {},
   "outputs": [],
   "source": [
    "#Apply the SVM model to the second set of data\n",
    "cl = svm.SVC(kernel='linear')\n",
    "cl.fit(train_vec, train['is_good_review'])\n",
    "pred = cl.predict(test_vec1)\n",
    "print(\"Results for SVC(kernel=linear)\")\n",
    "report = classification_report(test1['is_good_review'], pred, output_dict=True)\n",
    "print('positive: ', report['1'])\n",
    "print('negative: ', report['0'])"
   ]
  },
  {
   "cell_type": "code",
   "execution_count": null,
   "metadata": {},
   "outputs": [],
   "source": [
    "#Apply the SVM model to third set of data\n",
    "cl = svm.SVC(kernel='linear')\n",
    "cl.fit(train_vec, train['is_good_review'])\n",
    "pred = cl.predict(test_vec2)\n",
    "print(\"Results for SVC(kernel=linear)\")\n",
    "report = classification_report(test2['is_good_review'], pred, output_dict=True)\n",
    "print('positive: ', report['1'])\n",
    "print('negative: ', report['0'])"
   ]
  }
 ],
 "metadata": {
  "kernelspec": {
   "display_name": "Python 3",
   "language": "python",
   "name": "python3"
  },
  "language_info": {
   "codemirror_mode": {
    "name": "ipython",
    "version": 3
   },
   "file_extension": ".py",
   "mimetype": "text/x-python",
   "name": "python",
   "nbconvert_exporter": "python",
   "pygments_lexer": "ipython3",
   "version": "3.6.5"
  }
 },
 "nbformat": 4,
 "nbformat_minor": 2
}
